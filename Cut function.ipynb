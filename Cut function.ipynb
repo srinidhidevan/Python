{
 "cells": [
  {
   "cell_type": "code",
   "execution_count": 1,
   "metadata": {},
   "outputs": [
    {
     "data": {
      "text/plain": [
       "[(0.991, 4.0], (4.0, 7.0], (7.0, 10.0], (0.991, 4.0], (7.0, 10.0]]\n",
       "Categories (3, interval[float64]): [(0.991, 4.0] < (4.0, 7.0] < (7.0, 10.0]]"
      ]
     },
     "execution_count": 1,
     "metadata": {},
     "output_type": "execute_result"
    }
   ],
   "source": [
    "import numpy as np\n",
    "import pandas as pd\n",
    "pd.cut(np.array([1, 7, 8, 2, 10]), 3)"
   ]
  },
  {
   "cell_type": "code",
   "execution_count": 2,
   "metadata": {},
   "outputs": [
    {
     "data": {
      "text/plain": [
       "[bad, good, medium, medium, good, bad]\n",
       "Categories (3, object): [bad < medium < good]"
      ]
     },
     "execution_count": 2,
     "metadata": {},
     "output_type": "execute_result"
    }
   ],
   "source": [
    "pd.cut(np.array([1, 7, 5, 4, 6, 3]),3, labels=[\"bad\", \"medium\", \"good\"])"
   ]
  },
  {
   "cell_type": "code",
   "execution_count": 7,
   "metadata": {},
   "outputs": [
    {
     "name": "stdout",
     "output_type": "stream",
     "text": [
      "   num\n",
      "0   48\n",
      "1   15\n",
      "2   26\n",
      "3   94\n",
      "4   34\n",
      "5   40\n",
      "6   12\n",
      "7   96\n",
      "8    3\n",
      "9   86\n",
      "   num   num_bins\n",
      "0   48   (25, 50]\n",
      "1   15    (1, 25]\n",
      "2   26   (25, 50]\n",
      "3   94  (75, 100]\n",
      "4   34   (25, 50]\n",
      "5   40   (25, 50]\n",
      "6   12    (1, 25]\n",
      "7   96  (75, 100]\n",
      "8    3    (1, 25]\n",
      "9   86  (75, 100]\n"
     ]
    }
   ],
   "source": [
    "df_nums = pd.DataFrame({'num': np.random.randint(1, 100, 10)})\n",
    "print(df_nums)\n",
    "\n",
    "df_nums['num_bins'] = pd.cut(x=df_nums['num'], bins=[1, 25, 50, 75, 100])\n",
    "print(df_nums)\n",
    "\n",
    "#print(df_nums['num_bins'].unique())"
   ]
  },
  {
   "cell_type": "code",
   "execution_count": 4,
   "metadata": {
    "scrolled": true
   },
   "outputs": [
    {
     "data": {
      "text/plain": [
       "0      Small\n",
       "1     Medium\n",
       "2      Small\n",
       "3      Large\n",
       "4      Small\n",
       "5      Large\n",
       "6     Medium\n",
       "7     Medium\n",
       "8      Small\n",
       "9      Small\n",
       "10    Medium\n",
       "11    Medium\n",
       "12    Medium\n",
       "13     Small\n",
       "dtype: category\n",
       "Categories (3, object): [Small < Medium < Large]"
      ]
     },
     "execution_count": 4,
     "metadata": {},
     "output_type": "execute_result"
    }
   ],
   "source": [
    "s=pd.Series([168,180,174,190,170,185,179,181,175,169,182,177,180,171])\n",
    "pd.cut(s,3)\n",
    "#To add labels to bins\n",
    "pd.cut(s,3,labels=[\"Small\",\"Medium\",\"Large\"])"
   ]
  },
  {
   "cell_type": "code",
   "execution_count": null,
   "metadata": {},
   "outputs": [],
   "source": []
  },
  {
   "cell_type": "code",
   "execution_count": null,
   "metadata": {
    "scrolled": true
   },
   "outputs": [],
   "source": []
  },
  {
   "cell_type": "code",
   "execution_count": null,
   "metadata": {},
   "outputs": [],
   "source": []
  },
  {
   "cell_type": "code",
   "execution_count": null,
   "metadata": {},
   "outputs": [],
   "source": []
  }
 ],
 "metadata": {
  "kernelspec": {
   "display_name": "Python 3",
   "language": "python",
   "name": "python3"
  },
  "language_info": {
   "codemirror_mode": {
    "name": "ipython",
    "version": 3
   },
   "file_extension": ".py",
   "mimetype": "text/x-python",
   "name": "python",
   "nbconvert_exporter": "python",
   "pygments_lexer": "ipython3",
   "version": "3.7.6"
  }
 },
 "nbformat": 4,
 "nbformat_minor": 4
}
